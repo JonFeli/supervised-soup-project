{
  "cells": [
    {
      "cell_type": "markdown",
      "metadata": {
        "colab_type": "text",
        "id": "view-in-github"
      },
      "source": [
        "<a href=\"https://colab.research.google.com/github/JonFeli/supervised-soup-project/blob/main/notebooks/colab_setup.ipynb\" target=\"_parent\"><img src=\"https://colab.research.google.com/assets/colab-badge.svg\" alt=\"Open In Colab\"/></a>"
      ]
    },
    {
      "cell_type": "markdown",
      "metadata": {
        "id": "fg3svqvt3CB9"
      },
      "source": []
    },
    {
      "cell_type": "code",
      "execution_count": null,
      "metadata": {
        "id": "8LS93ets2_cZ"
      },
      "outputs": [],
      "source": [
        "# @title Setup Code\n",
        "# @markdown This cell is to set up paths and dependencies and clone our repo. We will need to run this at the start of every notebook.\n",
        "\n",
        "# mounting google drive to access the training data\n",
        "from google.colab import drive\n",
        "drive.mount('/content/drive')\n",
        "\n",
        "# integrating github by cloning our repo\n",
        "!git clone https://github.com/NeuralSprial/supervised-soup-project.git\n",
        "%cd /content/supervised-soup-project\n",
        "\n",
        "# to install the dependencies\n",
        "!pip install -r requirements.txt\n",
        "\n",
        "# add path to our src folder\n",
        "import sys\n",
        "sys.path.append('/content/supervised-soup-project/src')\n",
        "\n",
        "# now we can import the code from our src folder if we need it (e.g. dataloader, model)\n",
        "\n"
      ]
    },
    {
      "cell_type": "code",
      "execution_count": null,
      "metadata": {
        "colab": {
          "base_uri": "https://localhost:8080/"
        },
        "id": "wi4a1W1XYlDn",
        "outputId": "5863b115-d83b-4d7a-c30e-2b9bcf2f2594"
      },
      "outputs": [
        {
          "name": "stdout",
          "output_type": "stream",
          "text": [
            "From https://github.com/JonFeli/supervised-soup-project\n",
            " * branch            main       -> FETCH_HEAD\n",
            "Already up to date.\n"
          ]
        }
      ],
      "source": [
        "# to pull updates run this code:\n",
        "!git pull origin main\n"
      ]
    },
    {
      "cell_type": "code",
      "execution_count": null,
      "metadata": {
        "id": "qzLeeqH4YsVs"
      },
      "outputs": [],
      "source": [
        "# to push changes to github run this code:\n",
        "!git add .\n",
        "!git commit -m \"Your message\"\n",
        "!git push origin branch_name"
      ]
    }
  ],
  "metadata": {
    "colab": {
      "authorship_tag": "ABX9TyO5y/7J4Zpjh9frWJ8BLFnP",
      "include_colab_link": true,
      "provenance": []
    },
    "kernelspec": {
      "display_name": "Python 3",
      "name": "python3"
    },
    "language_info": {
      "name": "python"
    }
  },
  "nbformat": 4,
  "nbformat_minor": 0
}
